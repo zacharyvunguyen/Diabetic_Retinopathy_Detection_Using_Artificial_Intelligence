{
 "cells": [
  {
   "cell_type": "markdown",
   "metadata": {
    "collapsed": true,
    "pycharm": {
     "name": "#%% md\n"
    }
   },
   "source": [
    "### Task #1: Understand the Problem Statement and Business Case\n",
    "#### Business Case:\n",
    "- Diabetic Retinopathy is a disease that results from complications of type 1 & 2 diabetes and affects patient eyes.\n",
    "- The disease can develop if blood sugar levels are left uncontrolled for a prolonged period of time,\n",
    "- It is caused by the damage of blood vessels in the retina which is located in the back of patient's eyes (retina is light sensitive tissue in the eye).\n",
    "- Diabetic Retinopathy is the leading cause of blindness in the working-age population of the developed world.\n",
    "- The World Health Organization estimates that 347 million people have the disease worldwide.\n",
    "- With the power of Artificial Intelligence and Deep Learning, doctors will be able to detect blindness before it occurs. Aravind Eye Hospital in India hopes to detect and prevent diabetic Retinopathy among people mostly living in rural areas where medical screening and experienced doctors are limited.\n",
    "\n",
    "|    NO DR | MILD | MODERATE | SEVERE | PROLIFERATE    |\n",
    "|-----|-----|-----|-----|-----|\n",
    "|  ![](train/No_DR/0a4e1a29ffff.png)   |  ![](train/Mild/0a61bddab956.png)   | ![](train/Moderate/0a9ec1e99ce4.png)    |  ![](train/Severe/0c917c372572.png)   |  ![](train/Proliferate_DR/0ada12c0e78f.png)   |\n",
    "\n",
    "#### Inputs and Outputs\n",
    "- The dataset consists of 3553 color images belongs to 5 categoriess\n",
    "- Categories that are present in the data are No_DR, Mild, Moderate, Severe and Proliferative (radpily growing)\n",
    "\n",
    "![](images/Task1-1.png)\n",
    "\n"
   ]
  },
  {
   "cell_type": "markdown",
   "source": [
    "### Task #2: Import Libraries and Datasets"
   ],
   "metadata": {
    "collapsed": false,
    "pycharm": {
     "name": "#%% md\n"
    }
   }
  },
  {
   "cell_type": "code",
   "execution_count": null,
   "outputs": [],
   "source": [
    "\n",
    "### Task #3: Perform Data Exploration and Visualization\n",
    "\n",
    "### Task #4: Perform Data Augmentation and Create Data Generator\n",
    "\n",
    "### Task #5: Understand the Theory and Intuition Behind Convolutional Neural Networks\n",
    "\n",
    "### Task #6: Build a ResNet Deep Neural Network Model\n",
    "\n",
    "### Task #7: Compile and Train the Deep Neural Network Model\n",
    "\n",
    "### Task #8: Assess the Performance of the Trained Model"
   ],
   "metadata": {
    "collapsed": false,
    "pycharm": {
     "name": "#%%\n"
    }
   }
  }
 ],
 "metadata": {
  "kernelspec": {
   "display_name": "Python 3",
   "language": "python",
   "name": "python3"
  },
  "language_info": {
   "codemirror_mode": {
    "name": "ipython",
    "version": 2
   },
   "file_extension": ".py",
   "mimetype": "text/x-python",
   "name": "python",
   "nbconvert_exporter": "python",
   "pygments_lexer": "ipython2",
   "version": "2.7.6"
  }
 },
 "nbformat": 4,
 "nbformat_minor": 0
}